{
 "cells": [
  {
   "cell_type": "code",
   "execution_count": 2,
   "metadata": {
    "collapsed": false
   },
   "outputs": [],
   "source": [
    "from lxml import etree\n",
    "from io import StringIO, BytesIO\n",
    "import json\n",
    "import time\n",
    "import re\n",
    "import sys\n",
    "from sys import getsizeof\n",
    "\n",
    "namespace = '{http://www.mediawiki.org/xml/export-0.10/}'\n",
    "page_tag = namespace + 'page'\n",
    "title_tag = namespace + 'title'\n",
    "redirect_tag = namespace + 'redirect'\n",
    "text_tag = namespace + 'text'"
   ]
  },
  {
   "cell_type": "code",
   "execution_count": null,
   "metadata": {
    "collapsed": false
   },
   "outputs": [],
   "source": [
    "# EXTRAER TITULOS NAIVE\n",
    "\n",
    "start_time = time.time()\n",
    "\n",
    "context = etree.iterparse('./wiki-dump/enwiki-1gb', events=('end',))\n",
    "\n",
    "titles = []\n",
    "\n",
    "for event, elem in context:\n",
    "    if 'title' in elem.tag:\n",
    "        if elem.text is not None:\n",
    "            titles.append(elem.text.lower())\n",
    "#             titles.append({'title': elem.text.lower(), 'redirect': ''})\n",
    "#             titles.append((elem.text,))\n",
    "    elif 'redirect' in elem.tag:\n",
    "        titles[-1] = elem.attrib['title'].lower()\n",
    "#         titles[-1]['redirect'] = elem.attrib['title'].lower()\n",
    "#         titles[-1] = titles[-1] + (elem.attrib['title'],)\n",
    "    \n",
    "    elem.clear()\n",
    "    while elem.getprevious() is not None:\n",
    "        del elem.getparent()[0]\n",
    "\n",
    "del context\n",
    "\n",
    "print('Titles: {} --- {} MB'.format(len(titles), getsizeof(titles) / 1024**2))\n",
    "print(\"--- %s seconds ---\" % (time.time() - start_time))"
   ]
  },
  {
   "cell_type": "code",
   "execution_count": null,
   "metadata": {
    "collapsed": false
   },
   "outputs": [],
   "source": [
    "start_time = time.time()\n",
    "\n",
    "with open('./wiki-dump/titles', 'w') as outfile:\n",
    "    json.dump(titles, outfile, indent=2)\n",
    "    \n",
    "print(\"--- %s seconds ---\" % (time.time() - start_time))"
   ]
  },
  {
   "cell_type": "code",
   "execution_count": 6,
   "metadata": {
    "collapsed": false
   },
   "outputs": [
    {
     "name": "stdout",
     "output_type": "stream",
     "text": [
      "Titles: 40554 --- 2.000213623046875 MB\n",
      "--- 9.96427321434021 seconds ---\n"
     ]
    }
   ],
   "source": [
    "# EXTRAER TITULOS: ALGORITMO ESTRELLA :D\n",
    "\n",
    "start_time = time.time()\n",
    "\n",
    "context = etree.iterparse('./wiki-dump/enwiki-1gb', tag=page_tag , events=('end',))\n",
    "\n",
    "titles = set()\n",
    "for event, elem in context:\n",
    "    try:\n",
    "        redirect_child = elem.iterchildren(tag=redirect_tag)\n",
    "        child = redirect_child.__next__()\n",
    "#         titles.append(child.attrib['title'].lower())\n",
    "        titles.add(child.attrib['title'].lower())\n",
    "\n",
    "    except StopIteration:\n",
    "        title_child = elem.iterchildren(tag=title_tag)\n",
    "        child = title_child.__next__()\n",
    "#         titles.append(child.text.lower())\n",
    "        titles.add(child.text.lower())\n",
    "        \n",
    "    elem.clear()\n",
    "    while elem.getprevious() is not None:\n",
    "        del elem.getparent()[0]\n",
    "\n",
    "del context\n",
    "\n",
    "\n",
    "print('Titles: {} --- {} MB'.format(len(titles), getsizeof(titles) / 1024**2))\n",
    "print(\"--- %s seconds ---\" % (time.time() - start_time))"
   ]
  },
  {
   "cell_type": "code",
   "execution_count": null,
   "metadata": {
    "collapsed": false
   },
   "outputs": [],
   "source": [
    "repeated = titles\n",
    "from collections import Counter\n",
    "a = dict(Counter(repeated))\n",
    "print(a)"
   ]
  },
  {
   "cell_type": "code",
   "execution_count": null,
   "metadata": {
    "collapsed": false
   },
   "outputs": [],
   "source": [
    "count = 1000\n",
    "for event, elem in etree.iterparse('./wiki-dump/enwiki-1gb', events=('start', 'end')):\n",
    "    if event == 'start' and 'page' in elem.tag:\n",
    "        f = elem.find('{http://www.mediawiki.org/xml/export-0.10/}redirect')\n",
    "        if f is not None:\n",
    "            print(f.attrib['title'])\n",
    "        else:\n",
    "            f = elem.find('{http://www.mediawiki.org/xml/export-0.10/}title')\n",
    "            print(f.text)\n",
    "    if count <= 0:\n",
    "        break\n",
    "    count -= 1\n",
    "    elem.clear()\n",
    "        "
   ]
  },
  {
   "cell_type": "code",
   "execution_count": null,
   "metadata": {
    "collapsed": false,
    "scrolled": false
   },
   "outputs": [],
   "source": [
    "count = 170\n",
    "text = ''\n",
    "for event, elem in etree.iterparse('./wiki-dump/enwiki-1gb', events=('start', 'end')):\n",
    "    if event == 'start' and 'text' in elem.tag:\n",
    "        count -= 1\n",
    "        if count == 0:\n",
    "            text = elem.text\n",
    "            break\n",
    "\n",
    "# m = re.findall('\\[\\[(.*?)]]', text)\n",
    "m = re.findall('\\[\\[([^][]+)]]', text)\n",
    "print(len(m))\n",
    "print(m)\n",
    "\n",
    "for i, s in enumerate(m):\n",
    "    m[i] = s.split('|')[-1]\n",
    "\n",
    "print(m)\n"
   ]
  },
  {
   "cell_type": "code",
   "execution_count": null,
   "metadata": {
    "collapsed": false,
    "scrolled": true
   },
   "outputs": [],
   "source": [
    "print(text)\n"
   ]
  },
  {
   "cell_type": "code",
   "execution_count": null,
   "metadata": {
    "collapsed": false
   },
   "outputs": [],
   "source": [
    "vocabulary = []\n",
    "alternative_keyphrases = set()\n",
    "\n",
    "start_time = time.time()\n",
    "\n",
    "# with open('./wiki-dump/titles', 'wa') as f:\n",
    "\n",
    "# Extract keyphrases from articles\n",
    "for event, elem in etree.iterparse('./wiki-dump/enwiki-20160113-pages-articles.xml', events=('start', 'end')):\n",
    "    title = ''\n",
    "    # Extract titles of pages\n",
    "    if event == 'start' and 'title' in elem.tag:\n",
    "        if elem.text is not None:\n",
    "#                 vocabulary.append(elem.text.lower())\n",
    "#                 title = elem.text.lower()\n",
    "            pass\n",
    "\n",
    "    elif event == 'start' and 'redirect' in elem.tag:\n",
    "#             vocabulary[-1] = elem.attrib['title'].lower()\n",
    "#             title = elem.attrib['title'].lower()\n",
    "        pass\n",
    "\n",
    "    # Extract keyphrases in other morphological form\n",
    "    elif event == 'start' and 'text' in elem.tag:\n",
    "        text = elem.text\n",
    "        if text is not None:\n",
    "#                 keyphrases = re.findall('\\[\\[([^][]+)]]', text)\n",
    "#                 for key in keyphrases:\n",
    "#                     alternative_keyphrases.add(key.split('|')[-1].lower())\n",
    "            pass\n",
    "\n",
    "    elem.clear()\n",
    "        \n",
    "    \n",
    "    \n",
    "print(\"--- %s seconds ---\" % (time.time() - start_time))\n",
    "\n",
    "\n",
    "start_time = time.time()\n",
    "vocabulary = alternative_keyphrases.union(set(vocabulary))\n",
    "print(\"--- %s seconds ---\" % (time.time() - start_time))\n",
    "\n",
    "start_time = time.time()\n",
    "print('Vocabulary: ', len(vocabulary))\n",
    "print(\"--- %s seconds ---\" % (time.time() - start_time))"
   ]
  },
  {
   "cell_type": "code",
   "execution_count": null,
   "metadata": {
    "collapsed": true
   },
   "outputs": [],
   "source": [
    "# Open corpus\n",
    "context = etree.iterparse('./wiki-dump/enwiki-20160113-pages-articles.xml', events=('start', 'end'))\n",
    "\n",
    "# Extract keyphrases from articles\n",
    "def extract_keyphrases(even, elem):\n",
    "    title = ''\n",
    "    # Extract titles of pages\n",
    "    if event == 'start' and 'title' in elem.tag:\n",
    "        if elem.text is not None:\n",
    "#                 vocabulary.append(elem.text.lower())\n",
    "#                 title = elem.text.lower()\n",
    "            pass\n",
    "\n",
    "    elif event == 'start' and 'redirect' in elem.tag:\n",
    "#             vocabulary[-1] = elem.attrib['title'].lower()\n",
    "#             title = elem.attrib['title'].lower()\n",
    "        pass\n",
    "\n",
    "    # Extract keyphrases in other morphological form\n",
    "    elif event == 'start' and 'text' in elem.tag:\n",
    "        text = elem.text\n",
    "        if text is not None:\n",
    "#                 keyphrases = re.findall('\\[\\[([^][]+)]]', text)\n",
    "#                 for key in keyphrases:\n",
    "#                     alternative_keyphrases.add(key.split('|')[-1].lower())\n",
    "            pass\n",
    "    \n",
    "\n",
    "def fast_iter(context, func):\n",
    "    for event, elem in context:\n",
    "        func(event, elem)\n",
    "        elem.clear()\n",
    "        while elem.getprevious() is not None:\n",
    "            del elem.getparent()[0]\n",
    "    del context"
   ]
  },
  {
   "cell_type": "code",
   "execution_count": null,
   "metadata": {
    "collapsed": false
   },
   "outputs": [],
   "source": [
    "s = set()\n",
    "for i in range(5000000):\n",
    "    s.add('Un string asadas ' + str(i))\n",
    "    \n",
    "getsizeof(s) / (1024*1024)"
   ]
  }
 ],
 "metadata": {
  "kernelspec": {
   "display_name": "Python 3",
   "language": "python",
   "name": "python3"
  },
  "language_info": {
   "codemirror_mode": {
    "name": "ipython",
    "version": 3
   },
   "file_extension": ".py",
   "mimetype": "text/x-python",
   "name": "python",
   "nbconvert_exporter": "python",
   "pygments_lexer": "ipython3",
   "version": "3.4.3"
  }
 },
 "nbformat": 4,
 "nbformat_minor": 0
}
