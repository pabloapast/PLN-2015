{
 "cells": [
  {
   "cell_type": "code",
   "execution_count": 1,
   "metadata": {
    "collapsed": false
   },
   "outputs": [],
   "source": [
    "from lxml import etree\n",
    "from io import StringIO, BytesIO\n",
    "import json\n",
    "import time\n",
    "import re"
   ]
  },
  {
   "cell_type": "code",
   "execution_count": null,
   "metadata": {
    "collapsed": false
   },
   "outputs": [],
   "source": [
    "start_time = time.time()\n",
    "\n",
    "titles = []\n",
    "for event, elem in etree.iterparse('./wiki-dump/enwiki-1gb', events=('start', 'end')):\n",
    "    if event == 'start' and 'title' in elem.tag:\n",
    "        if elem.text is not None:\n",
    "            titles.append(elem.text.lower())\n",
    "#             titles.append({'title': elem.text.lower(), 'redirect': ''})\n",
    "#         titles.append((elem.text,))\n",
    "    elif event == 'start' and 'redirect' in elem.tag:\n",
    "        titles[-1] = elem.attrib['title'].lower()\n",
    "#         titles[-1]['redirect'] = elem.attrib['title'].lower()\n",
    "#         titles[-1] = titles[-1] + (elem.attrib['title'],)\n",
    "    elem.clear()\n",
    "    \n",
    "print('Titles: ', len(titles))\n",
    "print(\"--- %s seconds ---\" % (time.time() - start_time))"
   ]
  },
  {
   "cell_type": "code",
   "execution_count": null,
   "metadata": {
    "collapsed": false
   },
   "outputs": [],
   "source": [
    "start_time = time.time()\n",
    "\n",
    "with open('./wiki-dump/titles', 'w') as outfile:\n",
    "    json.dump(titles, outfile, indent=2)\n",
    "    \n",
    "print(\"--- %s seconds ---\" % (time.time() - start_time))"
   ]
  },
  {
   "cell_type": "code",
   "execution_count": null,
   "metadata": {
    "collapsed": false
   },
   "outputs": [],
   "source": [
    "start_time = time.time()\n",
    "\n",
    "titles = []\n",
    "for event, elem in etree.iterparse('./wiki-dump/enwiki-1gb', events=('start', 'end')):\n",
    "    if event == 'start' and 'page' in elem.tag:\n",
    "        f = elem.find('{http://www.mediawiki.org/xml/export-0.10/}redirect')\n",
    "        if f is not None:\n",
    "            titles.append(f.attrib['title'].lower())\n",
    "        else:\n",
    "            f = elem.find('{http://www.mediawiki.org/xml/export-0.10/}title')\n",
    "            if f is not None and f.text is not None:\n",
    "                titles.append(f.text.lower())\n",
    "    elem.clear()\n",
    "    \n",
    "print('Titles: ', len(titles))\n",
    "print(\"--- %s seconds ---\" % (time.time() - start_time))"
   ]
  },
  {
   "cell_type": "code",
   "execution_count": null,
   "metadata": {
    "collapsed": false
   },
   "outputs": [],
   "source": [
    "count = 1000\n",
    "for event, elem in etree.iterparse('./wiki-dump/enwiki-1gb', events=('start', 'end')):\n",
    "    if event == 'start' and 'page' in elem.tag:\n",
    "        f = elem.find('{http://www.mediawiki.org/xml/export-0.10/}redirect')\n",
    "        if f is not None:\n",
    "            print(f.attrib['title'])\n",
    "        else:\n",
    "            f = elem.find('{http://www.mediawiki.org/xml/export-0.10/}title')\n",
    "            print(f.text)\n",
    "    if count <= 0:\n",
    "        break\n",
    "    count -= 1\n",
    "    elem.clear()\n",
    "        "
   ]
  },
  {
   "cell_type": "code",
   "execution_count": null,
   "metadata": {
    "collapsed": false,
    "scrolled": false
   },
   "outputs": [],
   "source": [
    "count = 170\n",
    "text = ''\n",
    "for event, elem in etree.iterparse('./wiki-dump/enwiki-1gb', events=('start', 'end')):\n",
    "    if event == 'start' and 'text' in elem.tag:\n",
    "        count -= 1\n",
    "        if count == 0:\n",
    "            text = elem.text\n",
    "            break\n",
    "\n",
    "# m = re.findall('\\[\\[(.*?)]]', text)\n",
    "m = re.findall('\\[\\[([^][]+)]]', text)\n",
    "print(len(m))\n",
    "print(m)\n",
    "\n",
    "for i, s in enumerate(m):\n",
    "    m[i] = s.split('|')[-1]\n",
    "\n",
    "print(m)\n"
   ]
  },
  {
   "cell_type": "code",
   "execution_count": null,
   "metadata": {
    "collapsed": false,
    "scrolled": true
   },
   "outputs": [],
   "source": [
    "print(text)\n"
   ]
  },
  {
   "cell_type": "code",
   "execution_count": 2,
   "metadata": {
    "collapsed": false
   },
   "outputs": [
    {
     "name": "stdout",
     "output_type": "stream",
     "text": [
      "Vocabulary:  894503\n",
      "--- 18.574403524398804 seconds ---\n"
     ]
    }
   ],
   "source": [
    "vocabulary = []\n",
    "alternative_keyphrases = set()\n",
    "\n",
    "start_time = time.time()\n",
    "\n",
    "# Extract keyphrases from articles\n",
    "for event, elem in etree.iterparse('./wiki-dump/enwiki-1gb', events=('start', 'end')):\n",
    "    # Extract titles of pages\n",
    "    if event == 'start' and 'title' in elem.tag:\n",
    "        if elem.text is not None:\n",
    "            vocabulary.append(elem.text.lower())\n",
    "\n",
    "    elif event == 'start' and 'redirect' in elem.tag:\n",
    "        vocabulary[-1] = elem.attrib['title'].lower()\n",
    "    \n",
    "    # Extract keyphrases in other morphological form\n",
    "    elif event == 'start' and 'text' in elem.tag:\n",
    "        text = elem.text\n",
    "        if text is not None:\n",
    "            keyphrases = re.findall('\\[\\[([^][]+)]]', text)\n",
    "            for key in keyphrases:\n",
    "                alternative_keyphrases.add(key.split('|')[-1].lower())\n",
    "        \n",
    "    elem.clear()\n",
    "\n",
    "vocabulary = alternative_keyphrases.union(set(vocabulary))\n",
    "print('Vocabulary: ', len(vocabulary))\n",
    "\n",
    "print(\"--- %s seconds ---\" % (time.time() - start_time))\n"
   ]
  },
  {
   "cell_type": "code",
   "execution_count": null,
   "metadata": {
    "collapsed": false
   },
   "outputs": [],
   "source": []
  }
 ],
 "metadata": {
  "kernelspec": {
   "display_name": "Python 3",
   "language": "python",
   "name": "python3"
  },
  "language_info": {
   "codemirror_mode": {
    "name": "ipython",
    "version": 3
   },
   "file_extension": ".py",
   "mimetype": "text/x-python",
   "name": "python",
   "nbconvert_exporter": "python",
   "pygments_lexer": "ipython3",
   "version": "3.4.3"
  }
 },
 "nbformat": 4,
 "nbformat_minor": 0
}
