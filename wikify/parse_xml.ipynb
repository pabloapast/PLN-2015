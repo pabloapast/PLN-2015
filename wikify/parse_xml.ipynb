{
 "cells": [
  {
   "cell_type": "code",
   "execution_count": null,
   "metadata": {
    "collapsed": false
   },
   "outputs": [],
   "source": [
    "from lxml import etree\n",
    "from collections import Counter\n",
    "from io import StringIO, BytesIO\n",
    "import json\n",
    "import time\n",
    "import re\n",
    "import sys\n",
    "from sys import getsizeof\n",
    "\n",
    "try:\n",
    "    import cPickle as pickle\n",
    "except ImportError:\n",
    "    import pickle\n",
    "\n",
    "\n",
    "NAMESPACE = '{http://www.mediawiki.org/xml/export-0.10/}'\n",
    "PAGE_TAG = NAMESPACE + 'page'\n",
    "TITLE_TAG = NAMESPACE + 'title'\n",
    "REDIRECT_TAG = NAMESPACE + 'redirect'\n",
    "TEXT_TAG = NAMESPACE + 'text'\n",
    "SOURCE = './wiki-dump/enwiki-1gb'\n",
    "DEST = './wiki-dump/'\n",
    "\n",
    "\n",
    "# Fast iteration over xml with low ram consumption\n",
    "def fast_iter(context, func, dest):\n",
    "    for event, elem in context:\n",
    "        # Execute operations over xml node\n",
    "        func(elem, dest)\n",
    "        # Clear data read\n",
    "        elem.clear()\n",
    "        while elem.getprevious() is not None:\n",
    "            del elem.getparent()[0]\n",
    "    del context\n"
   ]
  },
  {
   "cell_type": "code",
   "execution_count": null,
   "metadata": {
    "collapsed": false
   },
   "outputs": [],
   "source": [
    "# EXTRAER TITULOS NAIVE\n",
    "\n",
    "start_time = time.time()\n",
    "\n",
    "context = etree.iterparse('./wiki-dump/enwiki-1gb', events=('end',))\n",
    "\n",
    "titles = []\n",
    "\n",
    "for event, elem in context:\n",
    "    if 'title' in elem.tag:\n",
    "        if elem.text is not None:\n",
    "            titles.append(elem.text.lower())\n",
    "#             titles.append({'title': elem.text.lower(), 'redirect': ''})\n",
    "#             titles.append((elem.text,))\n",
    "    elif 'redirect' in elem.tag:\n",
    "        titles[-1] = elem.attrib['title'].lower()\n",
    "#         titles[-1]['redirect'] = elem.attrib['title'].lower()\n",
    "#         titles[-1] = titles[-1] + (elem.attrib['title'],)\n",
    "    \n",
    "    elem.clear()\n",
    "    while elem.getprevious() is not None:\n",
    "        del elem.getparent()[0]\n",
    "\n",
    "del context\n",
    "\n",
    "print('Titles: {} --- {} MB'.format(len(titles), getsizeof(titles) / 1024**2))\n",
    "print(\"--- %s seconds ---\" % (time.time() - start_time))"
   ]
  },
  {
   "cell_type": "code",
   "execution_count": null,
   "metadata": {
    "collapsed": false
   },
   "outputs": [],
   "source": [
    "start_time = time.time()\n",
    "\n",
    "with open('./wiki-dump/titles', 'w') as outfile:\n",
    "    json.dump(titles, outfile, indent=2)\n",
    "    \n",
    "print(\"--- %s seconds ---\" % (time.time() - start_time))"
   ]
  },
  {
   "cell_type": "code",
   "execution_count": null,
   "metadata": {
    "collapsed": false
   },
   "outputs": [],
   "source": [
    "# EXTRAER TITULOS: ALGORITMO ESTRELLA :D\n",
    "\n",
    "start_time = time.time()\n",
    "\n",
    "context = etree.iterparse('./wiki-dump/enwiki-1gb', tag=PAGE_TAG , events=('end',))\n",
    "\n",
    "titles = set()\n",
    "for event, elem in context:\n",
    "    try:\n",
    "        iter_child = elem.iterchildren(tag=REDIRECT_TAG)\n",
    "        redirect_child = iter_child.__next__()\n",
    "#         titles.append(redirect_child.attrib['title'].lower())\n",
    "        titles.add(redirect_child.attrib['title'].lower())\n",
    "\n",
    "    except StopIteration:\n",
    "        iter_child = elem.iterchildren(tag=TITLE_TAG)\n",
    "        title_child = iter_child.__next__()\n",
    "#         titles.append(title_child.text.lower())\n",
    "        titles.add(title_child.text.lower())\n",
    "        \n",
    "    elem.clear()\n",
    "    while elem.getprevious() is not None:\n",
    "        del elem.getparent()[0]\n",
    "\n",
    "del context\n",
    "\n",
    "\n",
    "print('Titles: {} --- {} MB'.format(len(titles), getsizeof(titles) / 1024**2))\n",
    "print(\"--- %s seconds ---\" % (time.time() - start_time))"
   ]
  },
  {
   "cell_type": "code",
   "execution_count": null,
   "metadata": {
    "collapsed": false
   },
   "outputs": [],
   "source": [
    "repeated = titles\n",
    "from collections import Counter\n",
    "a = dict(Counter(repeated))\n",
    "print(a)"
   ]
  },
  {
   "cell_type": "code",
   "execution_count": null,
   "metadata": {
    "collapsed": false
   },
   "outputs": [],
   "source": [
    "count = 1000\n",
    "for event, elem in etree.iterparse('./wiki-dump/enwiki-1gb', events=('start', 'end')):\n",
    "    if event == 'start' and 'page' in elem.tag:\n",
    "        f = elem.find('{http://www.mediawiki.org/xml/export-0.10/}redirect')\n",
    "        if f is not None:\n",
    "            print(f.attrib['title'])\n",
    "        else:\n",
    "            f = elem.find('{http://www.mediawiki.org/xml/export-0.10/}title')\n",
    "            print(f.text)\n",
    "    if count <= 0:\n",
    "        break\n",
    "    count -= 1\n",
    "    elem.clear()\n",
    "        "
   ]
  },
  {
   "cell_type": "code",
   "execution_count": null,
   "metadata": {
    "collapsed": false,
    "scrolled": false
   },
   "outputs": [],
   "source": [
    "count = 170\n",
    "text = ''\n",
    "for event, elem in etree.iterparse('./wiki-dump/enwiki-1gb', events=('start', 'end')):\n",
    "    if event == 'start' and 'text' in elem.tag:\n",
    "        count -= 1\n",
    "        if count == 0:\n",
    "            text = elem.text\n",
    "            break\n",
    "\n",
    "# m = re.findall('\\[\\[(.*?)]]', text)\n",
    "m = re.findall('\\[\\[([^][]+)]]', text)\n",
    "print(len(m))\n",
    "print(m)\n",
    "\n",
    "for i, s in enumerate(m):\n",
    "    m[i] = s.split('|')[-1]\n",
    "\n",
    "print(m)\n"
   ]
  },
  {
   "cell_type": "code",
   "execution_count": null,
   "metadata": {
    "collapsed": false,
    "scrolled": true
   },
   "outputs": [],
   "source": [
    "context1 = etree.iterparse('./wiki-dump/enwiki-1gb', tag=PAGE_TAG , events=('end',))\n",
    "context2 = etree.iterparse('./wiki-dump/enwiki-1gb', tag=TEXT_TAG , events=('end',))\n",
    "\n",
    "count1 = 0\n",
    "for event, elem in context1:\n",
    "    count1 += 1\n",
    "    elem.clear()\n",
    "    while elem.getprevious() is not None:\n",
    "        del elem.getparent()[0]\n",
    "    \n",
    "count2 = 0\n",
    "for event, elem in context2:\n",
    "    count2 += 1\n",
    "    elem.clear()\n",
    "    while elem.getprevious() is not None:\n",
    "        del elem.getparent()[0]\n",
    "\n",
    "del context1  \n",
    "del context2  \n",
    "    \n",
    "print(count1, count2)"
   ]
  },
  {
   "cell_type": "code",
   "execution_count": null,
   "metadata": {
    "collapsed": false
   },
   "outputs": [],
   "source": [
    "vocabulary = []\n",
    "alternative_keyphrases = set()\n",
    "\n",
    "start_time = time.time()\n",
    "\n",
    "# with open('./wiki-dump/titles', 'wa') as f:\n",
    "\n",
    "# Extract keyphrases from articles\n",
    "for event, elem in etree.iterparse('./wiki-dump/enwiki-20160113-pages-articles.xml', events=('start', 'end')):\n",
    "    title = ''\n",
    "    # Extract titles of pages\n",
    "    if event == 'start' and 'title' in elem.tag:\n",
    "        if elem.text is not None:\n",
    "#                 vocabulary.append(elem.text.lower())\n",
    "#                 title = elem.text.lower()\n",
    "            pass\n",
    "\n",
    "    elif event == 'start' and 'redirect' in elem.tag:\n",
    "#             vocabulary[-1] = elem.attrib['title'].lower()\n",
    "#             title = elem.attrib['title'].lower()\n",
    "        pass\n",
    "\n",
    "    # Extract keyphrases in other morphological form\n",
    "    elif event == 'start' and 'text' in elem.tag:\n",
    "        text = elem.text\n",
    "        if text is not None:\n",
    "#                 keyphrases = re.findall('\\[\\[([^][]+)]]', text)\n",
    "#                 for key in keyphrases:\n",
    "#                     alternative_keyphrases.add(key.split('|')[-1].lower())\n",
    "            pass\n",
    "\n",
    "    elem.clear()\n",
    "        \n",
    "    \n",
    "    \n",
    "print(\"--- %s seconds ---\" % (time.time() - start_time))\n",
    "\n",
    "\n",
    "start_time = time.time()\n",
    "vocabulary = alternative_keyphrases.union(set(vocabulary))\n",
    "print(\"--- %s seconds ---\" % (time.time() - start_time))\n",
    "\n",
    "start_time = time.time()\n",
    "print('Vocabulary: ', len(vocabulary))\n",
    "print(\"--- %s seconds ---\" % (time.time() - start_time))"
   ]
  },
  {
   "cell_type": "markdown",
   "metadata": {},
   "source": [
    "--------------\n",
    "Extract keyphrases:\n",
    "-------------------"
   ]
  },
  {
   "cell_type": "code",
   "execution_count": null,
   "metadata": {
    "collapsed": false
   },
   "outputs": [],
   "source": [
    "# clean_pattern = '\\[\\[(image:|file:|category:)(.+)\\]\\]'\n",
    "# clean_pattern2 = '\\[\\[(image:|file:|category:)(.*(<br>\\n)*)*]]'\n",
    "extract_pattern = '\\[\\[([^][]+)\\]\\]'\n",
    "\n",
    "ignore = ['Image:', 'File:', 'Category:', 'Q:', 'image:', 'file:', 'category:', 'q:']\n",
    "\n",
    "# clean_regex = re.compile(clean_pattern, re.IGNORECASE)\n",
    "extract_regex = re.compile(extract_pattern, re.IGNORECASE)\n",
    "\n",
    "context = etree.iterparse('./wiki-dump/enwiki-1gb',\n",
    "                          tag=PAGE_TAG , events=('end',))\n",
    "\n",
    "start_time = time.time()\n",
    "\n",
    "vocabulary = Counter()\n",
    "# double_key = set()\n",
    "for event, elem in context:\n",
    "    new_keys = []\n",
    "    # Extract titles of pages\n",
    "    try:\n",
    "        iterator = elem.iterchildren(tag=REDIRECT_TAG)\n",
    "        redirect_child = iterator.__next__()\n",
    "        new_keys.append(redirect_child.attrib['title'].lower())\n",
    "\n",
    "    except StopIteration:\n",
    "        iterator = elem.iterchildren(tag=TITLE_TAG)\n",
    "        title_child = iterator.__next__()\n",
    "        new_keys.append(title_child.text.lower())\n",
    "\n",
    "    # Extract keyphrases in other morphological form\n",
    "    iterator = elem.iterdescendants(tag=TEXT_TAG)\n",
    "    text_child = iterator.__next__()\n",
    "    if text_child.text is not None:\n",
    "#         keyphrases = clean_regex.sub('', text_child.text)\n",
    "        keyphrases = extract_regex.findall(text_child.text)\n",
    "        for key in keyphrases:\n",
    "            if not any(x in key for x in ignore):\n",
    "                new_keys.append(key.split('|')[-1].lower())\n",
    "#                 if len(key.split('|')) > 1:\n",
    "#                     double_key.add(key.lower())\n",
    "    \n",
    "    vocabulary.update(new_keys)\n",
    "\n",
    "    elem.clear()\n",
    "    while elem.getprevious() is not None:\n",
    "        del elem.getparent()[0]\n",
    "\n",
    "del context\n",
    "\n",
    "\n",
    "print('Vocabulary: {} ngrams --- {} MB'.format(len(vocabulary), getsizeof(vocabulary) / 1024**2))\n",
    "print(\"--- %s seconds ---\" % (time.time() - start_time))\n",
    "\n",
    "\n",
    "# Save vocabulary\n",
    "with open('./wiki-dump/vocabulary_dict', 'wb') as f:\n",
    "    pickle.dump(vocabulary, f)\n"
   ]
  },
  {
   "cell_type": "code",
   "execution_count": null,
   "metadata": {
    "collapsed": false
   },
   "outputs": [],
   "source": [
    "# with open('./wiki-dump/vocabulary2', 'rb') as f:\n",
    "#     voc = pickle.load(f)\n",
    "# len(voc)\n",
    "    \n",
    "# with open('./wiki-dump/vocabulary2', 'rb') as f:\n",
    "#     voc2 = pickle.load(f)\n",
    "\n",
    "# with open('./wiki-dump/rares', 'rb') as f:\n",
    "#     rare = pickle.load(f)\n",
    "print(vocabulary)"
   ]
  },
  {
   "cell_type": "code",
   "execution_count": null,
   "metadata": {
    "collapsed": false
   },
   "outputs": [],
   "source": [
    "# voc2.remove(\"when the pawn hits the conflicts he thinks like a king what he knows throws the blows when he goes to the fight and he'll win the whole thing 'fore he enters the ring there's no body to batter when your mind is your might so when you go solo, you hold your own hand and remember that depth is the greatest of heights and if you know where you stand, then you know where to land and if you fall it won't matter, cuz you'll know that you're right}}\")\n",
    "\n",
    "print(max(vocabulary, key=len))\n",
    "print(len(rares))\n",
    "print(max(rares, key=len))\n"
   ]
  },
  {
   "cell_type": "markdown",
   "metadata": {
    "collapsed": false
   },
   "source": [
    "--------------\n",
    "Split wiki dump xml:\n",
    "---------------"
   ]
  },
  {
   "cell_type": "code",
   "execution_count": null,
   "metadata": {
    "collapsed": false
   },
   "outputs": [],
   "source": [
    "from random import random\n",
    "\n",
    "start_time = time.time()\n",
    "\n",
    "context = etree.iterparse('./wiki-dump/enwiki-1gb', tag=PAGE_TAG , events=('end',))\n",
    "\n",
    "xml_header = '<mediawiki xmlns=\"http://www.mediawiki.org/xml/export-0.10/\" xmlns:xsi=\"http://www.w3.org/2001/XMLSchema-instance\" xsi:schemaLocation=\"http://www.mediawiki.org/xml/export-0.10/ http://www.mediawiki.org/xml/export-0.10.xsd\" version=\"0.10\" xml:lang=\"en\">\\n'\n",
    "xml_tail = '</mediawiki>\\n'\n",
    "\n",
    "n = 2\n",
    "name = './wiki-dump/enwiki-part'\n",
    "\n",
    "for i in range(1, n + 1):\n",
    "    filename = name + str(i)\n",
    "    with open(filename, 'a') as f:\n",
    "        f.write(xml_header)\n",
    "\n",
    "# Splits wikipedia dump into n parts choosing randomly the articles of each part\n",
    "for event, elem in context:\n",
    "    # Execute operations over xml node\n",
    "    temp_prob = 0\n",
    "    rand = random()\n",
    "    for i in range(1, n + 1):\n",
    "        if temp_prob <= rand < i / n:\n",
    "            filename = name + str(i)\n",
    "            with open(filename, 'ab') as f:\n",
    "                wiki_page = etree.tostring(elem)\n",
    "                f.write(wiki_page)\n",
    "            break\n",
    "        else:\n",
    "            temp_prob = i / n\n",
    "    \n",
    "    # Clear data read\n",
    "    elem.clear()\n",
    "    while elem.getprevious() is not None:\n",
    "        del elem.getparent()[0]\n",
    "\n",
    "del context\n",
    "\n",
    "for i in range(1, n + 1):\n",
    "    filename = name + str(i)\n",
    "    with open(filename, 'a') as f:\n",
    "        f.write(xml_tail)\n",
    "\n",
    "print(\"--- %s seconds ---\" % (time.time() - start_time))"
   ]
  },
  {
   "cell_type": "markdown",
   "metadata": {
    "collapsed": true
   },
   "source": [
    "------------------\n",
    "Count N-grams in articles\n",
    "-------------------------"
   ]
  },
  {
   "cell_type": "code",
   "execution_count": null,
   "metadata": {
    "collapsed": false
   },
   "outputs": [],
   "source": [
    "from sklearn.feature_extraction.text import CountVectorizer\n",
    "# from nltk.util import LazyMap\n",
    "\n",
    "# with open('./wiki-dump/vocabulary', 'rb') as f:\n",
    "#     voc = pickle.dump(f)\n",
    "\n",
    "# minivoc = ['titulo ,e', 'otro mas-va', 'simple', '3']\n",
    "\n",
    "# text = ['simple es el titulo ,e simple 2 y otro mas va',\n",
    "#         'segunda prueba',\n",
    "#         'otro mas-va',\n",
    "#         '2 SIMPLE 3',\n",
    "#        ]\n",
    "minivoc = ['màchear', 'no, anda']\n",
    "text = ['pará @ [[màchear]] no màchear', \n",
    "        'màchear màchear no, anda']\n",
    "\n",
    "# context = etree.iterparse('./wiki-dump/enwiki-1gb', tag=TEXT_TAG , events=('end',))\n",
    "vec = CountVectorizer(lowercase=True, ngram_range=(1, 10), vocabulary=minivoc, token_pattern='[\\S]+')\n",
    "vec2 = CountVectorizer(lowercase=True, ngram_range=(1, 10), vocabulary=minivoc, token_pattern='\\[\\[([^][]+)\\]\\]')\n",
    "# vec.fit_transform([])\n",
    "\n",
    "m = vec.transform(text).toarray()\n",
    "print(vec.get_feature_names())\n",
    "print(m)\n",
    "\n",
    "m2 = vec2.transform(text).toarray()\n",
    "print(vec2.get_feature_names())\n",
    "print(m2)\n",
    "\n",
    "re.findall('\\[\\[([^][]+)\\]\\]', 'viendo si [[funca|es]] esto')"
   ]
  },
  {
   "cell_type": "code",
   "execution_count": null,
   "metadata": {
    "collapsed": true
   },
   "outputs": [],
   "source": []
  },
  {
   "cell_type": "code",
   "execution_count": null,
   "metadata": {
    "collapsed": true
   },
   "outputs": [],
   "source": []
  }
 ],
 "metadata": {
  "kernelspec": {
   "display_name": "Python 3",
   "language": "python",
   "name": "python3"
  },
  "language_info": {
   "codemirror_mode": {
    "name": "ipython",
    "version": 3
   },
   "file_extension": ".py",
   "mimetype": "text/x-python",
   "name": "python",
   "nbconvert_exporter": "python",
   "pygments_lexer": "ipython3",
   "version": "3.4.3"
  }
 },
 "nbformat": 4,
 "nbformat_minor": 0
}
